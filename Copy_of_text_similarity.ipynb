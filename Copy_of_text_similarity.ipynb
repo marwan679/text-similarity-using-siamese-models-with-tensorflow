{
  "nbformat": 4,
  "nbformat_minor": 0,
  "metadata": {
    "colab": {
      "provenance": [],
      "gpuType": "T4"
    },
    "kernelspec": {
      "name": "python3",
      "display_name": "Python 3"
    },
    "language_info": {
      "name": "python"
    },
    "accelerator": "GPU"
  },
  "cells": [
    {
      "cell_type": "code",
      "execution_count": null,
      "metadata": {
        "id": "6EkO6KHBETje"
      },
      "outputs": [],
      "source": [
        "!mkdir ~/.kaggle\n",
        "!cp kaggle.json ~/.kaggle\n",
        "!chmod 600 ~/.kaggle/kaggle.json"
      ]
    },
    {
      "cell_type": "code",
      "source": [
        "!kaggle competitions download -c quora-question-pairs"
      ],
      "metadata": {
        "colab": {
          "base_uri": "https://localhost:8080/"
        },
        "id": "iQEryM1zFrVc",
        "outputId": "c0472a89-dad9-4093-df35-a1816dafdf46"
      },
      "execution_count": null,
      "outputs": [
        {
          "output_type": "stream",
          "name": "stdout",
          "text": [
            "Downloading quora-question-pairs.zip to /content\n",
            " 93% 286M/309M [00:04<00:00, 29.4MB/s]\n",
            "100% 309M/309M [00:04<00:00, 75.4MB/s]\n"
          ]
        }
      ]
    },
    {
      "cell_type": "code",
      "source": [
        "!unzip /content/quora-question-pairs.zip"
      ],
      "metadata": {
        "colab": {
          "base_uri": "https://localhost:8080/"
        },
        "id": "emBTEsVnFs5B",
        "outputId": "e32009ff-603e-419f-d766-414f3334f5f2"
      },
      "execution_count": null,
      "outputs": [
        {
          "output_type": "stream",
          "name": "stdout",
          "text": [
            "Archive:  /content/quora-question-pairs.zip\n",
            "  inflating: sample_submission.csv.zip  \n",
            "  inflating: test.csv                \n",
            "  inflating: test.csv.zip            \n",
            "  inflating: train.csv.zip           \n"
          ]
        }
      ]
    },
    {
      "cell_type": "code",
      "source": [
        "!unzip /content/train.csv.zip"
      ],
      "metadata": {
        "colab": {
          "base_uri": "https://localhost:8080/"
        },
        "id": "zNbkgYbdGBZ7",
        "outputId": "c1c3ce52-f6ca-4c03-f87b-96ab731df4fc"
      },
      "execution_count": null,
      "outputs": [
        {
          "output_type": "stream",
          "name": "stdout",
          "text": [
            "Archive:  /content/train.csv.zip\n",
            "  inflating: train.csv               \n"
          ]
        }
      ]
    },
    {
      "cell_type": "code",
      "source": [
        "import pandas as pd\n",
        "dataset = pd.read_csv('/content/train.csv',index_col=False)"
      ],
      "metadata": {
        "id": "ARQmppcGGHnP"
      },
      "execution_count": null,
      "outputs": []
    },
    {
      "cell_type": "code",
      "source": [
        "dataset.sample(5)"
      ],
      "metadata": {
        "colab": {
          "base_uri": "https://localhost:8080/",
          "height": 206
        },
        "id": "rqYI4JBYGhZb",
        "outputId": "27b6a635-efaa-4af9-cfc8-0f843904c8eb"
      },
      "execution_count": null,
      "outputs": [
        {
          "output_type": "execute_result",
          "data": {
            "text/plain": [
              "            id    qid1    qid2  \\\n",
              "113757  113757  185832   45639   \n",
              "246369  246369  359405  359406   \n",
              "46655    46655   83427   83428   \n",
              "296215  296215  418390  418391   \n",
              "157992  157992  246896  246897   \n",
              "\n",
              "                                                question1  \\\n",
              "113757  Why are some people reluctant to stay at an ai...   \n",
              "246369  Do Spetsnaz and the US Special forces have a b...   \n",
              "46655   What are some of the great books about India w...   \n",
              "296215  Hows Career of computer engineer is like after...   \n",
              "157992  Do you think that a new coup is possible in Tu...   \n",
              "\n",
              "                                                question2  is_duplicate  \n",
              "113757  If Airbnb is just as expensive as a hotel, why...             0  \n",
              "246369  What percentage of US Special Forces soldiers ...             0  \n",
              "46655           What are the must-read books about India?             1  \n",
              "296215  Hows Career of computer engineer working as te...             0  \n",
              "157992  Is it likely that there will be another milita...             1  "
            ],
            "text/html": [
              "\n",
              "  <div id=\"df-b29c8982-4144-4e10-8a4b-f07fc26e543b\" class=\"colab-df-container\">\n",
              "    <div>\n",
              "<style scoped>\n",
              "    .dataframe tbody tr th:only-of-type {\n",
              "        vertical-align: middle;\n",
              "    }\n",
              "\n",
              "    .dataframe tbody tr th {\n",
              "        vertical-align: top;\n",
              "    }\n",
              "\n",
              "    .dataframe thead th {\n",
              "        text-align: right;\n",
              "    }\n",
              "</style>\n",
              "<table border=\"1\" class=\"dataframe\">\n",
              "  <thead>\n",
              "    <tr style=\"text-align: right;\">\n",
              "      <th></th>\n",
              "      <th>id</th>\n",
              "      <th>qid1</th>\n",
              "      <th>qid2</th>\n",
              "      <th>question1</th>\n",
              "      <th>question2</th>\n",
              "      <th>is_duplicate</th>\n",
              "    </tr>\n",
              "  </thead>\n",
              "  <tbody>\n",
              "    <tr>\n",
              "      <th>113757</th>\n",
              "      <td>113757</td>\n",
              "      <td>185832</td>\n",
              "      <td>45639</td>\n",
              "      <td>Why are some people reluctant to stay at an ai...</td>\n",
              "      <td>If Airbnb is just as expensive as a hotel, why...</td>\n",
              "      <td>0</td>\n",
              "    </tr>\n",
              "    <tr>\n",
              "      <th>246369</th>\n",
              "      <td>246369</td>\n",
              "      <td>359405</td>\n",
              "      <td>359406</td>\n",
              "      <td>Do Spetsnaz and the US Special forces have a b...</td>\n",
              "      <td>What percentage of US Special Forces soldiers ...</td>\n",
              "      <td>0</td>\n",
              "    </tr>\n",
              "    <tr>\n",
              "      <th>46655</th>\n",
              "      <td>46655</td>\n",
              "      <td>83427</td>\n",
              "      <td>83428</td>\n",
              "      <td>What are some of the great books about India w...</td>\n",
              "      <td>What are the must-read books about India?</td>\n",
              "      <td>1</td>\n",
              "    </tr>\n",
              "    <tr>\n",
              "      <th>296215</th>\n",
              "      <td>296215</td>\n",
              "      <td>418390</td>\n",
              "      <td>418391</td>\n",
              "      <td>Hows Career of computer engineer is like after...</td>\n",
              "      <td>Hows Career of computer engineer working as te...</td>\n",
              "      <td>0</td>\n",
              "    </tr>\n",
              "    <tr>\n",
              "      <th>157992</th>\n",
              "      <td>157992</td>\n",
              "      <td>246896</td>\n",
              "      <td>246897</td>\n",
              "      <td>Do you think that a new coup is possible in Tu...</td>\n",
              "      <td>Is it likely that there will be another milita...</td>\n",
              "      <td>1</td>\n",
              "    </tr>\n",
              "  </tbody>\n",
              "</table>\n",
              "</div>\n",
              "    <div class=\"colab-df-buttons\">\n",
              "\n",
              "  <div class=\"colab-df-container\">\n",
              "    <button class=\"colab-df-convert\" onclick=\"convertToInteractive('df-b29c8982-4144-4e10-8a4b-f07fc26e543b')\"\n",
              "            title=\"Convert this dataframe to an interactive table.\"\n",
              "            style=\"display:none;\">\n",
              "\n",
              "  <svg xmlns=\"http://www.w3.org/2000/svg\" height=\"24px\" viewBox=\"0 -960 960 960\">\n",
              "    <path d=\"M120-120v-720h720v720H120Zm60-500h600v-160H180v160Zm220 220h160v-160H400v160Zm0 220h160v-160H400v160ZM180-400h160v-160H180v160Zm440 0h160v-160H620v160ZM180-180h160v-160H180v160Zm440 0h160v-160H620v160Z\"/>\n",
              "  </svg>\n",
              "    </button>\n",
              "\n",
              "  <style>\n",
              "    .colab-df-container {\n",
              "      display:flex;\n",
              "      gap: 12px;\n",
              "    }\n",
              "\n",
              "    .colab-df-convert {\n",
              "      background-color: #E8F0FE;\n",
              "      border: none;\n",
              "      border-radius: 50%;\n",
              "      cursor: pointer;\n",
              "      display: none;\n",
              "      fill: #1967D2;\n",
              "      height: 32px;\n",
              "      padding: 0 0 0 0;\n",
              "      width: 32px;\n",
              "    }\n",
              "\n",
              "    .colab-df-convert:hover {\n",
              "      background-color: #E2EBFA;\n",
              "      box-shadow: 0px 1px 2px rgba(60, 64, 67, 0.3), 0px 1px 3px 1px rgba(60, 64, 67, 0.15);\n",
              "      fill: #174EA6;\n",
              "    }\n",
              "\n",
              "    .colab-df-buttons div {\n",
              "      margin-bottom: 4px;\n",
              "    }\n",
              "\n",
              "    [theme=dark] .colab-df-convert {\n",
              "      background-color: #3B4455;\n",
              "      fill: #D2E3FC;\n",
              "    }\n",
              "\n",
              "    [theme=dark] .colab-df-convert:hover {\n",
              "      background-color: #434B5C;\n",
              "      box-shadow: 0px 1px 3px 1px rgba(0, 0, 0, 0.15);\n",
              "      filter: drop-shadow(0px 1px 2px rgba(0, 0, 0, 0.3));\n",
              "      fill: #FFFFFF;\n",
              "    }\n",
              "  </style>\n",
              "\n",
              "    <script>\n",
              "      const buttonEl =\n",
              "        document.querySelector('#df-b29c8982-4144-4e10-8a4b-f07fc26e543b button.colab-df-convert');\n",
              "      buttonEl.style.display =\n",
              "        google.colab.kernel.accessAllowed ? 'block' : 'none';\n",
              "\n",
              "      async function convertToInteractive(key) {\n",
              "        const element = document.querySelector('#df-b29c8982-4144-4e10-8a4b-f07fc26e543b');\n",
              "        const dataTable =\n",
              "          await google.colab.kernel.invokeFunction('convertToInteractive',\n",
              "                                                    [key], {});\n",
              "        if (!dataTable) return;\n",
              "\n",
              "        const docLinkHtml = 'Like what you see? Visit the ' +\n",
              "          '<a target=\"_blank\" href=https://colab.research.google.com/notebooks/data_table.ipynb>data table notebook</a>'\n",
              "          + ' to learn more about interactive tables.';\n",
              "        element.innerHTML = '';\n",
              "        dataTable['output_type'] = 'display_data';\n",
              "        await google.colab.output.renderOutput(dataTable, element);\n",
              "        const docLink = document.createElement('div');\n",
              "        docLink.innerHTML = docLinkHtml;\n",
              "        element.appendChild(docLink);\n",
              "      }\n",
              "    </script>\n",
              "  </div>\n",
              "\n",
              "\n",
              "<div id=\"df-83db63be-92bb-4468-b519-efcdfb00bbc0\">\n",
              "  <button class=\"colab-df-quickchart\" onclick=\"quickchart('df-83db63be-92bb-4468-b519-efcdfb00bbc0')\"\n",
              "            title=\"Suggest charts\"\n",
              "            style=\"display:none;\">\n",
              "\n",
              "<svg xmlns=\"http://www.w3.org/2000/svg\" height=\"24px\"viewBox=\"0 0 24 24\"\n",
              "     width=\"24px\">\n",
              "    <g>\n",
              "        <path d=\"M19 3H5c-1.1 0-2 .9-2 2v14c0 1.1.9 2 2 2h14c1.1 0 2-.9 2-2V5c0-1.1-.9-2-2-2zM9 17H7v-7h2v7zm4 0h-2V7h2v10zm4 0h-2v-4h2v4z\"/>\n",
              "    </g>\n",
              "</svg>\n",
              "  </button>\n",
              "\n",
              "<style>\n",
              "  .colab-df-quickchart {\n",
              "      --bg-color: #E8F0FE;\n",
              "      --fill-color: #1967D2;\n",
              "      --hover-bg-color: #E2EBFA;\n",
              "      --hover-fill-color: #174EA6;\n",
              "      --disabled-fill-color: #AAA;\n",
              "      --disabled-bg-color: #DDD;\n",
              "  }\n",
              "\n",
              "  [theme=dark] .colab-df-quickchart {\n",
              "      --bg-color: #3B4455;\n",
              "      --fill-color: #D2E3FC;\n",
              "      --hover-bg-color: #434B5C;\n",
              "      --hover-fill-color: #FFFFFF;\n",
              "      --disabled-bg-color: #3B4455;\n",
              "      --disabled-fill-color: #666;\n",
              "  }\n",
              "\n",
              "  .colab-df-quickchart {\n",
              "    background-color: var(--bg-color);\n",
              "    border: none;\n",
              "    border-radius: 50%;\n",
              "    cursor: pointer;\n",
              "    display: none;\n",
              "    fill: var(--fill-color);\n",
              "    height: 32px;\n",
              "    padding: 0;\n",
              "    width: 32px;\n",
              "  }\n",
              "\n",
              "  .colab-df-quickchart:hover {\n",
              "    background-color: var(--hover-bg-color);\n",
              "    box-shadow: 0 1px 2px rgba(60, 64, 67, 0.3), 0 1px 3px 1px rgba(60, 64, 67, 0.15);\n",
              "    fill: var(--button-hover-fill-color);\n",
              "  }\n",
              "\n",
              "  .colab-df-quickchart-complete:disabled,\n",
              "  .colab-df-quickchart-complete:disabled:hover {\n",
              "    background-color: var(--disabled-bg-color);\n",
              "    fill: var(--disabled-fill-color);\n",
              "    box-shadow: none;\n",
              "  }\n",
              "\n",
              "  .colab-df-spinner {\n",
              "    border: 2px solid var(--fill-color);\n",
              "    border-color: transparent;\n",
              "    border-bottom-color: var(--fill-color);\n",
              "    animation:\n",
              "      spin 1s steps(1) infinite;\n",
              "  }\n",
              "\n",
              "  @keyframes spin {\n",
              "    0% {\n",
              "      border-color: transparent;\n",
              "      border-bottom-color: var(--fill-color);\n",
              "      border-left-color: var(--fill-color);\n",
              "    }\n",
              "    20% {\n",
              "      border-color: transparent;\n",
              "      border-left-color: var(--fill-color);\n",
              "      border-top-color: var(--fill-color);\n",
              "    }\n",
              "    30% {\n",
              "      border-color: transparent;\n",
              "      border-left-color: var(--fill-color);\n",
              "      border-top-color: var(--fill-color);\n",
              "      border-right-color: var(--fill-color);\n",
              "    }\n",
              "    40% {\n",
              "      border-color: transparent;\n",
              "      border-right-color: var(--fill-color);\n",
              "      border-top-color: var(--fill-color);\n",
              "    }\n",
              "    60% {\n",
              "      border-color: transparent;\n",
              "      border-right-color: var(--fill-color);\n",
              "    }\n",
              "    80% {\n",
              "      border-color: transparent;\n",
              "      border-right-color: var(--fill-color);\n",
              "      border-bottom-color: var(--fill-color);\n",
              "    }\n",
              "    90% {\n",
              "      border-color: transparent;\n",
              "      border-bottom-color: var(--fill-color);\n",
              "    }\n",
              "  }\n",
              "</style>\n",
              "\n",
              "  <script>\n",
              "    async function quickchart(key) {\n",
              "      const quickchartButtonEl =\n",
              "        document.querySelector('#' + key + ' button');\n",
              "      quickchartButtonEl.disabled = true;  // To prevent multiple clicks.\n",
              "      quickchartButtonEl.classList.add('colab-df-spinner');\n",
              "      try {\n",
              "        const charts = await google.colab.kernel.invokeFunction(\n",
              "            'suggestCharts', [key], {});\n",
              "      } catch (error) {\n",
              "        console.error('Error during call to suggestCharts:', error);\n",
              "      }\n",
              "      quickchartButtonEl.classList.remove('colab-df-spinner');\n",
              "      quickchartButtonEl.classList.add('colab-df-quickchart-complete');\n",
              "    }\n",
              "    (() => {\n",
              "      let quickchartButtonEl =\n",
              "        document.querySelector('#df-83db63be-92bb-4468-b519-efcdfb00bbc0 button');\n",
              "      quickchartButtonEl.style.display =\n",
              "        google.colab.kernel.accessAllowed ? 'block' : 'none';\n",
              "    })();\n",
              "  </script>\n",
              "</div>\n",
              "\n",
              "    </div>\n",
              "  </div>\n"
            ],
            "application/vnd.google.colaboratory.intrinsic+json": {
              "type": "dataframe",
              "summary": "{\n  \"name\": \"dataset\",\n  \"rows\": 5,\n  \"fields\": [\n    {\n      \"column\": \"id\",\n      \"properties\": {\n        \"dtype\": \"number\",\n        \"std\": 100324,\n        \"min\": 46655,\n        \"max\": 296215,\n        \"num_unique_values\": 5,\n        \"samples\": [\n          246369,\n          157992,\n          46655\n        ],\n        \"semantic_type\": \"\",\n        \"description\": \"\"\n      }\n    },\n    {\n      \"column\": \"qid1\",\n      \"properties\": {\n        \"dtype\": \"number\",\n        \"std\": 133988,\n        \"min\": 83427,\n        \"max\": 418390,\n        \"num_unique_values\": 5,\n        \"samples\": [\n          359405,\n          246896,\n          83427\n        ],\n        \"semantic_type\": \"\",\n        \"description\": \"\"\n      }\n    },\n    {\n      \"column\": \"qid2\",\n      \"properties\": {\n        \"dtype\": \"number\",\n        \"std\": 164310,\n        \"min\": 45639,\n        \"max\": 418391,\n        \"num_unique_values\": 5,\n        \"samples\": [\n          359406,\n          246897,\n          83428\n        ],\n        \"semantic_type\": \"\",\n        \"description\": \"\"\n      }\n    },\n    {\n      \"column\": \"question1\",\n      \"properties\": {\n        \"dtype\": \"string\",\n        \"num_unique_values\": 5,\n        \"samples\": [\n          \"Do Spetsnaz and the US Special forces have a bitter rivalry? Or are they more cooperative?\",\n          \"Do you think that a new coup is possible in Turkey?\",\n          \"What are some of the great books about India which every Indian must read?\"\n        ],\n        \"semantic_type\": \"\",\n        \"description\": \"\"\n      }\n    },\n    {\n      \"column\": \"question2\",\n      \"properties\": {\n        \"dtype\": \"string\",\n        \"num_unique_values\": 5,\n        \"samples\": [\n          \"What percentage of US Special Forces soldiers are not white?\",\n          \"Is it likely that there will be another military coup in Turkey?\",\n          \"What are the must-read books about India?\"\n        ],\n        \"semantic_type\": \"\",\n        \"description\": \"\"\n      }\n    },\n    {\n      \"column\": \"is_duplicate\",\n      \"properties\": {\n        \"dtype\": \"number\",\n        \"std\": 0,\n        \"min\": 0,\n        \"max\": 1,\n        \"num_unique_values\": 2,\n        \"samples\": [\n          1,\n          0\n        ],\n        \"semantic_type\": \"\",\n        \"description\": \"\"\n      }\n    }\n  ]\n}"
            }
          },
          "metadata": {},
          "execution_count": 11
        }
      ]
    },
    {
      "cell_type": "code",
      "source": [
        "dataset = dataset.drop(['id','qid1','qid2'],axis=1)"
      ],
      "metadata": {
        "id": "0oMAfqjuGjGX"
      },
      "execution_count": null,
      "outputs": []
    },
    {
      "cell_type": "code",
      "source": [
        "dataset = dataset.dropna()"
      ],
      "metadata": {
        "id": "8w9CvrU_HwV3"
      },
      "execution_count": null,
      "outputs": []
    },
    {
      "cell_type": "code",
      "source": [
        "dataset = dataset.drop_duplicates()"
      ],
      "metadata": {
        "id": "jIR2xUbtH8Ch"
      },
      "execution_count": null,
      "outputs": []
    },
    {
      "cell_type": "code",
      "source": [
        "import re\n",
        "\n",
        "def clean_text(text)->str:\n",
        "  text = text.lower()\n",
        "  text = re.sub('\\[.*?\\]','',text)\n",
        "  text = re.sub('https?://\\S+|www\\.\\S+','',text)\n",
        "  text = re.sub('<.*?>+','',text)\n",
        "  text = re.sub('\\n','',text)\n",
        "  text = re.sub(r'[^\\w]',' ',text)\n",
        "  text = re.sub('\\w*\\d\\w*','',text)\n",
        "  return text\n",
        "\n",
        "dataset.question1 =dataset.question1.map(clean_text)\n",
        "dataset.question2 =dataset.question2.map(clean_text)"
      ],
      "metadata": {
        "id": "SHTw97sjH-bd"
      },
      "execution_count": null,
      "outputs": []
    },
    {
      "cell_type": "code",
      "source": [
        "dataset.hist()"
      ],
      "metadata": {
        "colab": {
          "base_uri": "https://localhost:8080/",
          "height": 469
        },
        "id": "xDYlBHhFIi1Y",
        "outputId": "6a5e9fb2-824c-42f3-9399-2e18c50d379f"
      },
      "execution_count": null,
      "outputs": [
        {
          "output_type": "execute_result",
          "data": {
            "text/plain": [
              "array([[<Axes: title={'center': 'is_duplicate'}>]], dtype=object)"
            ]
          },
          "metadata": {},
          "execution_count": 20
        },
        {
          "output_type": "display_data",
          "data": {
            "text/plain": [
              "<Figure size 640x480 with 1 Axes>"
            ],
            "image/png": "[encoded data removed]"
          },
          "metadata": {}
        }
      ]
    },
    {
      "cell_type": "code",
      "source": [
        "dataset = pd.concat([\n",
        "    dataset[(dataset.is_duplicate==1)],\n",
        "    dataset[(dataset.is_duplicate==0)].iloc[:149263]\n",
        "])"
      ],
      "metadata": {
        "id": "-0CmVROiJBHt"
      },
      "execution_count": null,
      "outputs": []
    },
    {
      "cell_type": "code",
      "source": [
        "from sklearn.model_selection import train_test_split\n",
        "\n",
        "train , test = train_test_split(dataset,\n",
        "                                train_size=0.8,test_size=0.2,\n",
        "                                stratify=dataset['is_duplicate'],random_state=42)"
      ],
      "metadata": {
        "id": "mveDio4iKB9N"
      },
      "execution_count": null,
      "outputs": []
    },
    {
      "cell_type": "code",
      "source": [
        "import tensorflow as tf"
      ],
      "metadata": {
        "id": "3P2zyq-CMZy2"
      },
      "execution_count": null,
      "outputs": []
    },
    {
      "cell_type": "code",
      "source": [
        "vocab_size:int = 10_000\n",
        "\n",
        "tokenizer = tf.keras.preprocessing.text.Tokenizer(\n",
        "    num_words = vocab_size,\n",
        "    filters='!\"#$%&()*+,-./:;=?@[\\\\]^_`{|}~\\t\\n',\n",
        "    oov_token='<OOV>')\n",
        "\n",
        "# fitting\n",
        "tokenizer.fit_on_texts(dataset.question1)"
      ],
      "metadata": {
        "id": "6WR19L1BLVlb"
      },
      "execution_count": null,
      "outputs": []
    },
    {
      "cell_type": "code",
      "source": [
        "def tokenize(Tokenizer,text):\n",
        "  tensor = tokenizer.texts_to_sequences(text)\n",
        "  tensor = tf.keras.preprocessing.sequence.pad_sequences(tensor,padding='post')\n",
        "  return tensor"
      ],
      "metadata": {
        "id": "5QyGAPIYNCb7"
      },
      "execution_count": null,
      "outputs": []
    },
    {
      "cell_type": "code",
      "source": [
        "train_question1_tensor = tokenize(tokenizer,train.question1)\n",
        "train_question2_tensor = tokenize(tokenizer,train.question2)\n",
        "\n",
        "test_question1_tensor = tokenize(tokenizer,test.question1)\n",
        "test_question2_tensor = tokenize(tokenizer,test.question2)"
      ],
      "metadata": {
        "id": "pCtPPTOBN2Et"
      },
      "execution_count": null,
      "outputs": []
    },
    {
      "cell_type": "code",
      "source": [
        "y_train = train.is_duplicate\n",
        "y_test = test.is_duplicate"
      ],
      "metadata": {
        "id": "dR8V5GVJOiTM"
      },
      "execution_count": null,
      "outputs": []
    },
    {
      "cell_type": "code",
      "source": [
        "def dataset(q1,q2,y):\n",
        "  data = tf.data.Dataset.from_tensor_slices(((q1,q2),y))\n",
        "  data = data.shuffle(1028)\n",
        "  data = data.batch(32,drop_remainder=True)\n",
        "  data = data.prefetch(tf.data.experimental.AUTOTUNE)\n",
        "  return data\n",
        "train_dataset = dataset(train_question1_tensor,train_question2_tensor,y_train)\n",
        "test_dataset = dataset(test_question1_tensor,test_question2_tensor,y_test)"
      ],
      "metadata": {
        "id": "7tFUUtSrOudq"
      },
      "execution_count": null,
      "outputs": []
    },
    {
      "cell_type": "markdown",
      "source": [
        "# siames networks"
      ],
      "metadata": {
        "id": "cyZoJ9LZQKjF"
      }
    },
    {
      "cell_type": "code",
      "source": [
        "class SiamesModel(tf.keras.Model):\n",
        "  def __init__(self):\n",
        "    super(SiamesModel,self).__init__()\n",
        "\n",
        "    self.l1 = tf.keras.layers.Embedding(input_dim=vocab_size+1,\n",
        "                                        output_dim=128,\n",
        "                                        mask_zero=True)\n",
        "\n",
        "    self.l2 = tf.keras.layers.Bidirectional(tf.keras.layers.GRU(\n",
        "                                            units=64,\n",
        "                                            return_sequences=False,return_state=True))\n",
        "\n",
        "    self.l3 = tf.keras.layers.Dense(256,activation='leaky_relu',\n",
        "                                    kernel_initializer= tf.initializers.he_uniform)\n",
        "\n",
        "    self.l4 = tf.keras.layers.Dropout(0.3)\n",
        "\n",
        "    self.l5 = tf.keras.layers.Dense(units=1,activation=tf.nn.sigmoid)\n",
        "\n",
        "  def call(self,input):\n",
        "    x1 = input[0]\n",
        "    x2 = input[1]\n",
        "    #------------\n",
        "    x1 = self.l1(x1)\n",
        "    x2 = self.l1(x2)\n",
        "    #------------\n",
        "    x1 , hidden1 , hidden2 = self.l2(x1)\n",
        "    x2 , _ , _ = self.l2(x2, [hidden1,hidden2])\n",
        "    #------------\n",
        "    x = tf.keras.layers.concatenate([x1,x2])\n",
        "    x = self.l3(x)\n",
        "    x = self.l4(x)\n",
        "    output = self.l5(x)\n",
        "    return output\n",
        "\n",
        "  def build_model(self):\n",
        "    x = tf.keras.layers.Input(shape=(300,))\n",
        "    return tf.keras.Model(inputs=x,outputs=[self.call((x,x))])"
      ],
      "metadata": {
        "id": "3vgZVjIzQL32"
      },
      "execution_count": null,
      "outputs": []
    },
    {
      "cell_type": "code",
      "source": [
        "model = SiamesModel()\n",
        "model.build_model().summary(line_length=100)"
      ],
      "metadata": {
        "colab": {
          "base_uri": "https://localhost:8080/"
        },
        "id": "QJVnUoqQXHtU",
        "outputId": "adfdab2b-9674-4c20-ffd1-287b05ff0102"
      },
      "execution_count": null,
      "outputs": [
        {
          "output_type": "stream",
          "name": "stdout",
          "text": [
            "Model: \"model_3\"\n",
            "____________________________________________________________________________________________________\n",
            " Layer (type)                 Output Shape                  Param #   Connected to                  \n",
            "====================================================================================================\n",
            " input_5 (InputLayer)         [(None, 300)]                 0         []                            \n",
            "                                                                                                    \n",
            " embedding_6 (Embedding)      (None, 300, 128)              1280128   ['input_5[0][0]',             \n",
            "                                                                       'input_5[0][0]']             \n",
            "                                                                                                    \n",
            " bidirectional_6 (Bidirectio  [(None, 128),                 74496     ['embedding_6[0][0]',         \n",
            " nal)                          (None, 64),                             'embedding_6[1][0]',         \n",
            "                               (None, 64)]                             'bidirectional_6[0][1]',     \n",
            "                                                                       'bidirectional_6[0][2]']     \n",
            "                                                                                                    \n",
            " concatenate_3 (Concatenate)  (None, 256)                   0         ['bidirectional_6[0][0]',     \n",
            "                                                                       'bidirectional_6[1][0]']     \n",
            "                                                                                                    \n",
            " dense_10 (Dense)             (None, 256)                   65792     ['concatenate_3[0][0]']       \n",
            "                                                                                                    \n",
            " dropout_5 (Dropout)          (None, 256)                   0         ['dense_10[0][0]']            \n",
            "                                                                                                    \n",
            " dense_11 (Dense)             (None, 1)                     257       ['dropout_5[0][0]']           \n",
            "                                                                                                    \n",
            "====================================================================================================\n",
            "Total params: 1420673 (5.42 MB)\n",
            "Trainable params: 1420673 (5.42 MB)\n",
            "Non-trainable params: 0 (0.00 Byte)\n",
            "____________________________________________________________________________________________________\n"
          ]
        }
      ]
    },
    {
      "cell_type": "code",
      "source": [
        "tf.keras.utils.plot_model(model.build_model())"
      ],
      "metadata": {
        "colab": {
          "base_uri": "https://localhost:8080/",
          "height": 661
        },
        "id": "hMuKCqAYXwv4",
        "outputId": "89eeb983-3712-43ca-fcd0-26cb43cf0804"
      },
      "execution_count": null,
      "outputs": [
        {
          "output_type": "execute_result",
          "data": {
            "image/png": "[encoded data removed]",
            "text/plain": [
              "<IPython.core.display.Image object>"
            ]
          },
          "metadata": {},
          "execution_count": 47
        }
      ]
    },
    {
      "cell_type": "code",
      "source": [
        "model.compile('adam',\n",
        "              loss='binary_crossentropy',\n",
        "              metrics=['acc'])\n",
        "model.fit(train_dataset,epochs=5,validation_data=test_dataset)"
      ],
      "metadata": {
        "colab": {
          "base_uri": "https://localhost:8080/"
        },
        "id": "Zxzk_677ZI_w",
        "outputId": "037301fd-7e0d-4b09-f6ee-bfc9f0ac6958"
      },
      "execution_count": null,
      "outputs": [
        {
          "output_type": "stream",
          "name": "stdout",
          "text": [
            "Epoch 1/5\n",
            "7463/7463 [==============================] - 184s 23ms/step - loss: 0.5037 - acc: 0.7526 - val_loss: 0.4582 - val_acc: 0.7825\n",
            "Epoch 2/5\n",
            "7463/7463 [==============================] - 150s 20ms/step - loss: 0.4003 - acc: 0.8178 - val_loss: 0.4541 - val_acc: 0.7941\n",
            "Epoch 3/5\n",
            "7463/7463 [==============================] - 150s 20ms/step - loss: 0.3170 - acc: 0.8642 - val_loss: 0.5078 - val_acc: 0.7887\n",
            "Epoch 4/5\n",
            "7463/7463 [==============================] - 150s 20ms/step - loss: 0.2475 - acc: 0.8979 - val_loss: 0.5887 - val_acc: 0.7848\n",
            "Epoch 5/5\n",
            "7463/7463 [==============================] - 162s 22ms/step - loss: 0.1935 - acc: 0.9230 - val_loss: 0.6975 - val_acc: 0.7810\n"
          ]
        },
        {
          "output_type": "execute_result",
          "data": {
            "text/plain": [
              "<keras.src.callbacks.History at 0x7cf972fdcfa0>"
            ]
          },
          "metadata": {},
          "execution_count": 49
        }
      ]
    },
    {
      "cell_type": "code",
      "source": [
        "import numpy as np\n",
        "print('accuracy: ',np.round(model.evaluate(test_dataset)[1]*100),'%')"
      ],
      "metadata": {
        "colab": {
          "base_uri": "https://localhost:8080/"
        },
        "id": "lvvY3KTddHSl",
        "outputId": "81660c8f-c9af-404f-f453-9e6557c63fce"
      },
      "execution_count": null,
      "outputs": [
        {
          "output_type": "stream",
          "name": "stdout",
          "text": [
            "1865/1865 [==============================] - 14s 7ms/step - loss: 0.6973 - acc: 0.7811\n",
            "accuracy:  78.0 %\n"
          ]
        }
      ]
    }
  ]
}